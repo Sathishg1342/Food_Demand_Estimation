{
 "cells": [
  {
   "cell_type": "markdown",
   "metadata": {
    "id": "Jvunm-2GpIca"
   },
   "source": [
    "Importing Libraries"
   ]
  },
  {
   "cell_type": "code",
   "execution_count": 137,
   "metadata": {
    "id": "Qw54nzznbYBB"
   },
   "outputs": [],
   "source": [
    "import pandas as pd\n",
    "import numpy as np\n",
    "import seaborn as sns\n",
    "import matplotlib.pyplot as plt"
   ]
  },
  {
   "cell_type": "markdown",
   "metadata": {
    "id": "dHL0MO75pP4G"
   },
   "source": [
    "Reading the dataset"
   ]
  },
  {
   "cell_type": "code",
   "execution_count": 138,
   "metadata": {
    "id": "AmC7YgQedQ0U"
   },
   "outputs": [],
   "source": [
    "train = pd.read_csv(\"train.csv\")\n",
    "test = pd.read_csv(\"test.csv\")\n",
    "meal_info = pd.read_csv(\"meal_info.csv\")\n",
    "center_info = pd.read_csv(\"fulfilment_center_info.csv\")"
   ]
  },
  {
   "cell_type": "markdown",
   "metadata": {
    "id": "BnACRoVepT43"
   },
   "source": [
    "Exploratory data analysis"
   ]
  },
  {
   "cell_type": "code",
   "execution_count": 139,
   "metadata": {
    "colab": {
     "base_uri": "https://localhost:8080/",
     "height": 250
    },
    "id": "xh85if4JiCvB",
    "outputId": "e3a5f0f6-c0c0-4b70-d195-b395d2f66467"
   },
   "outputs": [
    {
     "data": {
      "text/html": [
       "<div>\n",
       "<style scoped>\n",
       "    .dataframe tbody tr th:only-of-type {\n",
       "        vertical-align: middle;\n",
       "    }\n",
       "\n",
       "    .dataframe tbody tr th {\n",
       "        vertical-align: top;\n",
       "    }\n",
       "\n",
       "    .dataframe thead th {\n",
       "        text-align: right;\n",
       "    }\n",
       "</style>\n",
       "<table border=\"1\" class=\"dataframe\">\n",
       "  <thead>\n",
       "    <tr style=\"text-align: right;\">\n",
       "      <th></th>\n",
       "      <th>id</th>\n",
       "      <th>week</th>\n",
       "      <th>center_id</th>\n",
       "      <th>meal_id</th>\n",
       "      <th>checkout_price</th>\n",
       "      <th>base_price</th>\n",
       "      <th>emailer_for_promotion</th>\n",
       "      <th>homepage_featured</th>\n",
       "      <th>num_orders</th>\n",
       "    </tr>\n",
       "  </thead>\n",
       "  <tbody>\n",
       "    <tr>\n",
       "      <th>0</th>\n",
       "      <td>1379560</td>\n",
       "      <td>1</td>\n",
       "      <td>55</td>\n",
       "      <td>1885</td>\n",
       "      <td>136.83</td>\n",
       "      <td>152.29</td>\n",
       "      <td>0</td>\n",
       "      <td>0</td>\n",
       "      <td>177</td>\n",
       "    </tr>\n",
       "    <tr>\n",
       "      <th>1</th>\n",
       "      <td>1466964</td>\n",
       "      <td>1</td>\n",
       "      <td>55</td>\n",
       "      <td>1993</td>\n",
       "      <td>136.83</td>\n",
       "      <td>135.83</td>\n",
       "      <td>0</td>\n",
       "      <td>0</td>\n",
       "      <td>270</td>\n",
       "    </tr>\n",
       "    <tr>\n",
       "      <th>2</th>\n",
       "      <td>1346989</td>\n",
       "      <td>1</td>\n",
       "      <td>55</td>\n",
       "      <td>2539</td>\n",
       "      <td>134.86</td>\n",
       "      <td>135.86</td>\n",
       "      <td>0</td>\n",
       "      <td>0</td>\n",
       "      <td>189</td>\n",
       "    </tr>\n",
       "    <tr>\n",
       "      <th>3</th>\n",
       "      <td>1338232</td>\n",
       "      <td>1</td>\n",
       "      <td>55</td>\n",
       "      <td>2139</td>\n",
       "      <td>339.50</td>\n",
       "      <td>437.53</td>\n",
       "      <td>0</td>\n",
       "      <td>0</td>\n",
       "      <td>54</td>\n",
       "    </tr>\n",
       "    <tr>\n",
       "      <th>4</th>\n",
       "      <td>1448490</td>\n",
       "      <td>1</td>\n",
       "      <td>55</td>\n",
       "      <td>2631</td>\n",
       "      <td>243.50</td>\n",
       "      <td>242.50</td>\n",
       "      <td>0</td>\n",
       "      <td>0</td>\n",
       "      <td>40</td>\n",
       "    </tr>\n",
       "  </tbody>\n",
       "</table>\n",
       "</div>"
      ],
      "text/plain": [
       "        id  week  center_id  meal_id  checkout_price  base_price  \\\n",
       "0  1379560     1         55     1885          136.83      152.29   \n",
       "1  1466964     1         55     1993          136.83      135.83   \n",
       "2  1346989     1         55     2539          134.86      135.86   \n",
       "3  1338232     1         55     2139          339.50      437.53   \n",
       "4  1448490     1         55     2631          243.50      242.50   \n",
       "\n",
       "   emailer_for_promotion  homepage_featured  num_orders  \n",
       "0                      0                  0         177  \n",
       "1                      0                  0         270  \n",
       "2                      0                  0         189  \n",
       "3                      0                  0          54  \n",
       "4                      0                  0          40  "
      ]
     },
     "execution_count": 139,
     "metadata": {},
     "output_type": "execute_result"
    }
   ],
   "source": [
    "train.head()"
   ]
  },
  {
   "cell_type": "code",
   "execution_count": 140,
   "metadata": {
    "colab": {
     "base_uri": "https://localhost:8080/",
     "height": 206
    },
    "id": "9UyWTHkhiddR",
    "outputId": "dd7700cc-4589-4811-b530-9d360e3a4d1c"
   },
   "outputs": [
    {
     "data": {
      "text/html": [
       "<div>\n",
       "<style scoped>\n",
       "    .dataframe tbody tr th:only-of-type {\n",
       "        vertical-align: middle;\n",
       "    }\n",
       "\n",
       "    .dataframe tbody tr th {\n",
       "        vertical-align: top;\n",
       "    }\n",
       "\n",
       "    .dataframe thead th {\n",
       "        text-align: right;\n",
       "    }\n",
       "</style>\n",
       "<table border=\"1\" class=\"dataframe\">\n",
       "  <thead>\n",
       "    <tr style=\"text-align: right;\">\n",
       "      <th></th>\n",
       "      <th>id</th>\n",
       "      <th>week</th>\n",
       "      <th>center_id</th>\n",
       "      <th>meal_id</th>\n",
       "      <th>checkout_price</th>\n",
       "      <th>base_price</th>\n",
       "      <th>emailer_for_promotion</th>\n",
       "      <th>homepage_featured</th>\n",
       "    </tr>\n",
       "  </thead>\n",
       "  <tbody>\n",
       "    <tr>\n",
       "      <th>0</th>\n",
       "      <td>1028232</td>\n",
       "      <td>146</td>\n",
       "      <td>55</td>\n",
       "      <td>1885</td>\n",
       "      <td>158.11</td>\n",
       "      <td>159.11</td>\n",
       "      <td>0</td>\n",
       "      <td>0</td>\n",
       "    </tr>\n",
       "    <tr>\n",
       "      <th>1</th>\n",
       "      <td>1127204</td>\n",
       "      <td>146</td>\n",
       "      <td>55</td>\n",
       "      <td>1993</td>\n",
       "      <td>160.11</td>\n",
       "      <td>159.11</td>\n",
       "      <td>0</td>\n",
       "      <td>0</td>\n",
       "    </tr>\n",
       "    <tr>\n",
       "      <th>2</th>\n",
       "      <td>1212707</td>\n",
       "      <td>146</td>\n",
       "      <td>55</td>\n",
       "      <td>2539</td>\n",
       "      <td>157.14</td>\n",
       "      <td>159.14</td>\n",
       "      <td>0</td>\n",
       "      <td>0</td>\n",
       "    </tr>\n",
       "    <tr>\n",
       "      <th>3</th>\n",
       "      <td>1082698</td>\n",
       "      <td>146</td>\n",
       "      <td>55</td>\n",
       "      <td>2631</td>\n",
       "      <td>162.02</td>\n",
       "      <td>162.02</td>\n",
       "      <td>0</td>\n",
       "      <td>0</td>\n",
       "    </tr>\n",
       "    <tr>\n",
       "      <th>4</th>\n",
       "      <td>1400926</td>\n",
       "      <td>146</td>\n",
       "      <td>55</td>\n",
       "      <td>1248</td>\n",
       "      <td>163.93</td>\n",
       "      <td>163.93</td>\n",
       "      <td>0</td>\n",
       "      <td>0</td>\n",
       "    </tr>\n",
       "  </tbody>\n",
       "</table>\n",
       "</div>"
      ],
      "text/plain": [
       "        id  week  center_id  meal_id  checkout_price  base_price  \\\n",
       "0  1028232   146         55     1885          158.11      159.11   \n",
       "1  1127204   146         55     1993          160.11      159.11   \n",
       "2  1212707   146         55     2539          157.14      159.14   \n",
       "3  1082698   146         55     2631          162.02      162.02   \n",
       "4  1400926   146         55     1248          163.93      163.93   \n",
       "\n",
       "   emailer_for_promotion  homepage_featured  \n",
       "0                      0                  0  \n",
       "1                      0                  0  \n",
       "2                      0                  0  \n",
       "3                      0                  0  \n",
       "4                      0                  0  "
      ]
     },
     "execution_count": 140,
     "metadata": {},
     "output_type": "execute_result"
    }
   ],
   "source": [
    "test.head()"
   ]
  },
  {
   "cell_type": "code",
   "execution_count": 141,
   "metadata": {
    "colab": {
     "base_uri": "https://localhost:8080/"
    },
    "id": "Ex_6kZixijO_",
    "outputId": "b1e78c23-05be-4245-ff1d-8461180abbb6"
   },
   "outputs": [
    {
     "name": "stdout",
     "output_type": "stream",
     "text": [
      "<class 'pandas.core.frame.DataFrame'>\n",
      "RangeIndex: 456548 entries, 0 to 456547\n",
      "Data columns (total 9 columns):\n",
      " #   Column                 Non-Null Count   Dtype  \n",
      "---  ------                 --------------   -----  \n",
      " 0   id                     456548 non-null  int64  \n",
      " 1   week                   456548 non-null  int64  \n",
      " 2   center_id              456548 non-null  int64  \n",
      " 3   meal_id                456548 non-null  int64  \n",
      " 4   checkout_price         456548 non-null  float64\n",
      " 5   base_price             456548 non-null  float64\n",
      " 6   emailer_for_promotion  456548 non-null  int64  \n",
      " 7   homepage_featured      456548 non-null  int64  \n",
      " 8   num_orders             456548 non-null  int64  \n",
      "dtypes: float64(2), int64(7)\n",
      "memory usage: 31.3 MB\n"
     ]
    }
   ],
   "source": [
    "train.info()"
   ]
  },
  {
   "cell_type": "code",
   "execution_count": 142,
   "metadata": {},
   "outputs": [
    {
     "name": "stdout",
     "output_type": "stream",
     "text": [
      "<class 'pandas.core.frame.DataFrame'>\n",
      "RangeIndex: 32573 entries, 0 to 32572\n",
      "Data columns (total 8 columns):\n",
      " #   Column                 Non-Null Count  Dtype  \n",
      "---  ------                 --------------  -----  \n",
      " 0   id                     32573 non-null  int64  \n",
      " 1   week                   32573 non-null  int64  \n",
      " 2   center_id              32573 non-null  int64  \n",
      " 3   meal_id                32573 non-null  int64  \n",
      " 4   checkout_price         32573 non-null  float64\n",
      " 5   base_price             32573 non-null  float64\n",
      " 6   emailer_for_promotion  32573 non-null  int64  \n",
      " 7   homepage_featured      32573 non-null  int64  \n",
      "dtypes: float64(2), int64(6)\n",
      "memory usage: 2.0 MB\n"
     ]
    }
   ],
   "source": [
    "test.info()"
   ]
  },
  {
   "cell_type": "code",
   "execution_count": 143,
   "metadata": {
    "colab": {
     "base_uri": "https://localhost:8080/"
    },
    "id": "lgdY-ynIiz14",
    "outputId": "e4066b44-ae94-4ca0-c0bb-d2835a4cd563"
   },
   "outputs": [
    {
     "data": {
      "text/plain": [
       "count    456548.000000\n",
       "mean        261.872760\n",
       "std         395.922798\n",
       "min          13.000000\n",
       "25%          54.000000\n",
       "50%         136.000000\n",
       "75%         324.000000\n",
       "max       24299.000000\n",
       "Name: num_orders, dtype: float64"
      ]
     },
     "execution_count": 143,
     "metadata": {},
     "output_type": "execute_result"
    }
   ],
   "source": [
    "train['num_orders'].describe()"
   ]
  },
  {
   "cell_type": "markdown",
   "metadata": {
    "id": "JEZ4MMhBpcxK"
   },
   "source": [
    "Checking for null values"
   ]
  },
  {
   "cell_type": "code",
   "execution_count": 144,
   "metadata": {
    "colab": {
     "base_uri": "https://localhost:8080/"
    },
    "id": "jcW_vBDmjIoY",
    "outputId": "9dda9469-57ed-4b6e-9a75-6063a14d3754"
   },
   "outputs": [
    {
     "data": {
      "text/plain": [
       "id                       0\n",
       "week                     0\n",
       "center_id                0\n",
       "meal_id                  0\n",
       "checkout_price           0\n",
       "base_price               0\n",
       "emailer_for_promotion    0\n",
       "homepage_featured        0\n",
       "num_orders               0\n",
       "dtype: int64"
      ]
     },
     "execution_count": 144,
     "metadata": {},
     "output_type": "execute_result"
    }
   ],
   "source": [
    "train.isnull().sum()"
   ]
  },
  {
   "cell_type": "markdown",
   "metadata": {
    "id": "8CO0QOI6pif-"
   },
   "source": [
    "Reading and merging.csv files"
   ]
  },
  {
   "cell_type": "code",
   "execution_count": 145,
   "metadata": {
    "colab": {
     "base_uri": "https://localhost:8080/",
     "height": 270
    },
    "id": "T4FkDTSdjRK-",
    "outputId": "3f8a2975-bd54-43aa-c144-5fc8aab8389a"
   },
   "outputs": [
    {
     "data": {
      "text/html": [
       "<div>\n",
       "<style scoped>\n",
       "    .dataframe tbody tr th:only-of-type {\n",
       "        vertical-align: middle;\n",
       "    }\n",
       "\n",
       "    .dataframe tbody tr th {\n",
       "        vertical-align: top;\n",
       "    }\n",
       "\n",
       "    .dataframe thead th {\n",
       "        text-align: right;\n",
       "    }\n",
       "</style>\n",
       "<table border=\"1\" class=\"dataframe\">\n",
       "  <thead>\n",
       "    <tr style=\"text-align: right;\">\n",
       "      <th></th>\n",
       "      <th>id</th>\n",
       "      <th>week</th>\n",
       "      <th>center_id</th>\n",
       "      <th>meal_id</th>\n",
       "      <th>checkout_price</th>\n",
       "      <th>base_price</th>\n",
       "      <th>emailer_for_promotion</th>\n",
       "      <th>homepage_featured</th>\n",
       "      <th>num_orders</th>\n",
       "      <th>city_code</th>\n",
       "      <th>region_code</th>\n",
       "      <th>op_area</th>\n",
       "    </tr>\n",
       "  </thead>\n",
       "  <tbody>\n",
       "    <tr>\n",
       "      <th>count</th>\n",
       "      <td>4.565480e+05</td>\n",
       "      <td>456548.000000</td>\n",
       "      <td>456548.000000</td>\n",
       "      <td>456548.000000</td>\n",
       "      <td>456548.000000</td>\n",
       "      <td>456548.000000</td>\n",
       "      <td>456548.000000</td>\n",
       "      <td>456548.00000</td>\n",
       "      <td>456548.000000</td>\n",
       "      <td>456548.000000</td>\n",
       "      <td>456548.000000</td>\n",
       "      <td>456548.000000</td>\n",
       "    </tr>\n",
       "    <tr>\n",
       "      <th>mean</th>\n",
       "      <td>1.250096e+06</td>\n",
       "      <td>74.768771</td>\n",
       "      <td>82.105796</td>\n",
       "      <td>2024.337458</td>\n",
       "      <td>332.238933</td>\n",
       "      <td>354.156627</td>\n",
       "      <td>0.081152</td>\n",
       "      <td>0.10920</td>\n",
       "      <td>261.872760</td>\n",
       "      <td>601.553399</td>\n",
       "      <td>56.614566</td>\n",
       "      <td>4.083590</td>\n",
       "    </tr>\n",
       "    <tr>\n",
       "      <th>std</th>\n",
       "      <td>1.443548e+05</td>\n",
       "      <td>41.524956</td>\n",
       "      <td>45.975046</td>\n",
       "      <td>547.420920</td>\n",
       "      <td>152.939723</td>\n",
       "      <td>160.715914</td>\n",
       "      <td>0.273069</td>\n",
       "      <td>0.31189</td>\n",
       "      <td>395.922798</td>\n",
       "      <td>66.195914</td>\n",
       "      <td>17.641306</td>\n",
       "      <td>1.091686</td>\n",
       "    </tr>\n",
       "    <tr>\n",
       "      <th>min</th>\n",
       "      <td>1.000000e+06</td>\n",
       "      <td>1.000000</td>\n",
       "      <td>10.000000</td>\n",
       "      <td>1062.000000</td>\n",
       "      <td>2.970000</td>\n",
       "      <td>55.350000</td>\n",
       "      <td>0.000000</td>\n",
       "      <td>0.00000</td>\n",
       "      <td>13.000000</td>\n",
       "      <td>456.000000</td>\n",
       "      <td>23.000000</td>\n",
       "      <td>0.900000</td>\n",
       "    </tr>\n",
       "    <tr>\n",
       "      <th>25%</th>\n",
       "      <td>1.124999e+06</td>\n",
       "      <td>39.000000</td>\n",
       "      <td>43.000000</td>\n",
       "      <td>1558.000000</td>\n",
       "      <td>228.950000</td>\n",
       "      <td>243.500000</td>\n",
       "      <td>0.000000</td>\n",
       "      <td>0.00000</td>\n",
       "      <td>54.000000</td>\n",
       "      <td>553.000000</td>\n",
       "      <td>34.000000</td>\n",
       "      <td>3.600000</td>\n",
       "    </tr>\n",
       "    <tr>\n",
       "      <th>50%</th>\n",
       "      <td>1.250184e+06</td>\n",
       "      <td>76.000000</td>\n",
       "      <td>76.000000</td>\n",
       "      <td>1993.000000</td>\n",
       "      <td>296.820000</td>\n",
       "      <td>310.460000</td>\n",
       "      <td>0.000000</td>\n",
       "      <td>0.00000</td>\n",
       "      <td>136.000000</td>\n",
       "      <td>596.000000</td>\n",
       "      <td>56.000000</td>\n",
       "      <td>4.000000</td>\n",
       "    </tr>\n",
       "    <tr>\n",
       "      <th>75%</th>\n",
       "      <td>1.375140e+06</td>\n",
       "      <td>111.000000</td>\n",
       "      <td>110.000000</td>\n",
       "      <td>2539.000000</td>\n",
       "      <td>445.230000</td>\n",
       "      <td>458.870000</td>\n",
       "      <td>0.000000</td>\n",
       "      <td>0.00000</td>\n",
       "      <td>324.000000</td>\n",
       "      <td>651.000000</td>\n",
       "      <td>77.000000</td>\n",
       "      <td>4.500000</td>\n",
       "    </tr>\n",
       "    <tr>\n",
       "      <th>max</th>\n",
       "      <td>1.499999e+06</td>\n",
       "      <td>145.000000</td>\n",
       "      <td>186.000000</td>\n",
       "      <td>2956.000000</td>\n",
       "      <td>866.270000</td>\n",
       "      <td>866.270000</td>\n",
       "      <td>1.000000</td>\n",
       "      <td>1.00000</td>\n",
       "      <td>24299.000000</td>\n",
       "      <td>713.000000</td>\n",
       "      <td>93.000000</td>\n",
       "      <td>7.000000</td>\n",
       "    </tr>\n",
       "  </tbody>\n",
       "</table>\n",
       "</div>"
      ],
      "text/plain": [
       "                 id           week      center_id        meal_id  \\\n",
       "count  4.565480e+05  456548.000000  456548.000000  456548.000000   \n",
       "mean   1.250096e+06      74.768771      82.105796    2024.337458   \n",
       "std    1.443548e+05      41.524956      45.975046     547.420920   \n",
       "min    1.000000e+06       1.000000      10.000000    1062.000000   \n",
       "25%    1.124999e+06      39.000000      43.000000    1558.000000   \n",
       "50%    1.250184e+06      76.000000      76.000000    1993.000000   \n",
       "75%    1.375140e+06     111.000000     110.000000    2539.000000   \n",
       "max    1.499999e+06     145.000000     186.000000    2956.000000   \n",
       "\n",
       "       checkout_price     base_price  emailer_for_promotion  \\\n",
       "count   456548.000000  456548.000000          456548.000000   \n",
       "mean       332.238933     354.156627               0.081152   \n",
       "std        152.939723     160.715914               0.273069   \n",
       "min          2.970000      55.350000               0.000000   \n",
       "25%        228.950000     243.500000               0.000000   \n",
       "50%        296.820000     310.460000               0.000000   \n",
       "75%        445.230000     458.870000               0.000000   \n",
       "max        866.270000     866.270000               1.000000   \n",
       "\n",
       "       homepage_featured     num_orders      city_code    region_code  \\\n",
       "count       456548.00000  456548.000000  456548.000000  456548.000000   \n",
       "mean             0.10920     261.872760     601.553399      56.614566   \n",
       "std              0.31189     395.922798      66.195914      17.641306   \n",
       "min              0.00000      13.000000     456.000000      23.000000   \n",
       "25%              0.00000      54.000000     553.000000      34.000000   \n",
       "50%              0.00000     136.000000     596.000000      56.000000   \n",
       "75%              0.00000     324.000000     651.000000      77.000000   \n",
       "max              1.00000   24299.000000     713.000000      93.000000   \n",
       "\n",
       "             op_area  \n",
       "count  456548.000000  \n",
       "mean        4.083590  \n",
       "std         1.091686  \n",
       "min         0.900000  \n",
       "25%         3.600000  \n",
       "50%         4.000000  \n",
       "75%         4.500000  \n",
       "max         7.000000  "
      ]
     },
     "execution_count": 145,
     "metadata": {},
     "output_type": "execute_result"
    }
   ],
   "source": [
    "\n",
    "trainfinal = pd.merge(train, meal_info, on=\"meal_id\", how=\"outer\")\n",
    "trainfinal = pd.merge(trainfinal,center_info, on=\"center_id\", how=\"outer\")\n",
    "trainfinal.describe()"
   ]
  },
  {
   "cell_type": "code",
   "execution_count": 146,
   "metadata": {
    "colab": {
     "base_uri": "https://localhost:8080/",
     "height": 270
    },
    "id": "PRsntlpsmI70",
    "outputId": "43a791ec-f9da-4e81-d99e-a3f5095fda37"
   },
   "outputs": [
    {
     "data": {
      "text/html": [
       "<div>\n",
       "<style scoped>\n",
       "    .dataframe tbody tr th:only-of-type {\n",
       "        vertical-align: middle;\n",
       "    }\n",
       "\n",
       "    .dataframe tbody tr th {\n",
       "        vertical-align: top;\n",
       "    }\n",
       "\n",
       "    .dataframe thead th {\n",
       "        text-align: right;\n",
       "    }\n",
       "</style>\n",
       "<table border=\"1\" class=\"dataframe\">\n",
       "  <thead>\n",
       "    <tr style=\"text-align: right;\">\n",
       "      <th></th>\n",
       "      <th>id</th>\n",
       "      <th>week</th>\n",
       "      <th>checkout_price</th>\n",
       "      <th>base_price</th>\n",
       "      <th>emailer_for_promotion</th>\n",
       "      <th>homepage_featured</th>\n",
       "      <th>num_orders</th>\n",
       "      <th>category</th>\n",
       "      <th>cuisine</th>\n",
       "      <th>city_code</th>\n",
       "      <th>region_code</th>\n",
       "      <th>center_type</th>\n",
       "      <th>op_area</th>\n",
       "    </tr>\n",
       "  </thead>\n",
       "  <tbody>\n",
       "    <tr>\n",
       "      <th>0</th>\n",
       "      <td>1436842</td>\n",
       "      <td>1</td>\n",
       "      <td>181.39</td>\n",
       "      <td>181.39</td>\n",
       "      <td>0</td>\n",
       "      <td>0</td>\n",
       "      <td>865</td>\n",
       "      <td>Beverages</td>\n",
       "      <td>Italian</td>\n",
       "      <td>590</td>\n",
       "      <td>56</td>\n",
       "      <td>TYPE_B</td>\n",
       "      <td>6.3</td>\n",
       "    </tr>\n",
       "    <tr>\n",
       "      <th>1</th>\n",
       "      <td>1205013</td>\n",
       "      <td>2</td>\n",
       "      <td>183.36</td>\n",
       "      <td>182.36</td>\n",
       "      <td>0</td>\n",
       "      <td>0</td>\n",
       "      <td>782</td>\n",
       "      <td>Beverages</td>\n",
       "      <td>Italian</td>\n",
       "      <td>590</td>\n",
       "      <td>56</td>\n",
       "      <td>TYPE_B</td>\n",
       "      <td>6.3</td>\n",
       "    </tr>\n",
       "    <tr>\n",
       "      <th>2</th>\n",
       "      <td>1447751</td>\n",
       "      <td>3</td>\n",
       "      <td>184.36</td>\n",
       "      <td>182.36</td>\n",
       "      <td>0</td>\n",
       "      <td>0</td>\n",
       "      <td>851</td>\n",
       "      <td>Beverages</td>\n",
       "      <td>Italian</td>\n",
       "      <td>590</td>\n",
       "      <td>56</td>\n",
       "      <td>TYPE_B</td>\n",
       "      <td>6.3</td>\n",
       "    </tr>\n",
       "    <tr>\n",
       "      <th>3</th>\n",
       "      <td>1014968</td>\n",
       "      <td>4</td>\n",
       "      <td>182.36</td>\n",
       "      <td>183.36</td>\n",
       "      <td>0</td>\n",
       "      <td>0</td>\n",
       "      <td>1202</td>\n",
       "      <td>Beverages</td>\n",
       "      <td>Italian</td>\n",
       "      <td>590</td>\n",
       "      <td>56</td>\n",
       "      <td>TYPE_B</td>\n",
       "      <td>6.3</td>\n",
       "    </tr>\n",
       "    <tr>\n",
       "      <th>4</th>\n",
       "      <td>1003563</td>\n",
       "      <td>5</td>\n",
       "      <td>183.39</td>\n",
       "      <td>181.39</td>\n",
       "      <td>0</td>\n",
       "      <td>0</td>\n",
       "      <td>958</td>\n",
       "      <td>Beverages</td>\n",
       "      <td>Italian</td>\n",
       "      <td>590</td>\n",
       "      <td>56</td>\n",
       "      <td>TYPE_B</td>\n",
       "      <td>6.3</td>\n",
       "    </tr>\n",
       "  </tbody>\n",
       "</table>\n",
       "</div>"
      ],
      "text/plain": [
       "        id  week  checkout_price  base_price  emailer_for_promotion  \\\n",
       "0  1436842     1          181.39      181.39                      0   \n",
       "1  1205013     2          183.36      182.36                      0   \n",
       "2  1447751     3          184.36      182.36                      0   \n",
       "3  1014968     4          182.36      183.36                      0   \n",
       "4  1003563     5          183.39      181.39                      0   \n",
       "\n",
       "   homepage_featured  num_orders   category  cuisine  city_code  region_code  \\\n",
       "0                  0         865  Beverages  Italian        590           56   \n",
       "1                  0         782  Beverages  Italian        590           56   \n",
       "2                  0         851  Beverages  Italian        590           56   \n",
       "3                  0        1202  Beverages  Italian        590           56   \n",
       "4                  0         958  Beverages  Italian        590           56   \n",
       "\n",
       "  center_type  op_area  \n",
       "0      TYPE_B      6.3  \n",
       "1      TYPE_B      6.3  \n",
       "2      TYPE_B      6.3  \n",
       "3      TYPE_B      6.3  \n",
       "4      TYPE_B      6.3  "
      ]
     },
     "execution_count": 146,
     "metadata": {},
     "output_type": "execute_result"
    }
   ],
   "source": [
    "trainfinal = trainfinal.drop(['center_id', 'meal_id'], axis=1)\n",
    "trainfinal.head()"
   ]
  },
  {
   "cell_type": "markdown",
   "metadata": {
    "id": "utgyHWQhpoz9"
   },
   "source": [
    "Dropping columns"
   ]
  },
  {
   "cell_type": "code",
   "execution_count": 147,
   "metadata": {
    "colab": {
     "base_uri": "https://localhost:8080/"
    },
    "id": "0ZrPCqy0mpe6",
    "outputId": "ed3a27c3-1f65-4b3b-bfdd-cea0db5349dc"
   },
   "outputs": [
    {
     "name": "stdout",
     "output_type": "stream",
     "text": [
      "['id', 'week', 'checkout_price', 'base_price', 'emailer_for_promotion', 'homepage_featured', 'num_orders', 'category', 'cuisine', 'city_code', 'region_code', 'center_type', 'op_area']\n"
     ]
    }
   ],
   "source": [
    "cols = trainfinal.columns.tolist()\n",
    "print(cols)"
   ]
  },
  {
   "cell_type": "code",
   "execution_count": 148,
   "metadata": {
    "colab": {
     "base_uri": "https://localhost:8080/"
    },
    "id": "lxyV2i-LnfBp",
    "outputId": "fd2c4384-cacf-413d-cdcb-78dc941e2b73"
   },
   "outputs": [
    {
     "name": "stdout",
     "output_type": "stream",
     "text": [
      "['id', 'week', 'city_code', 'region_code', 'center_type', 'op_area', 'category', 'cuisine', 'checkout_price', 'base_price', 'emailer_for_promotion', 'homepage_featured', 'num_orders']\n"
     ]
    }
   ],
   "source": [
    "cols = cols[:2] + cols[9:] + cols[7:9] + cols[2:7] \n",
    "print(cols)"
   ]
  },
  {
   "cell_type": "code",
   "execution_count": 149,
   "metadata": {
    "colab": {
     "base_uri": "https://localhost:8080/"
    },
    "id": "fBmd3YmEoVXp",
    "outputId": "ae6bed1d-ff94-4c16-ddee-98e7fa66b452",
    "scrolled": true
   },
   "outputs": [
    {
     "data": {
      "text/plain": [
       "id                         int64\n",
       "week                       int64\n",
       "city_code                  int64\n",
       "region_code                int64\n",
       "center_type               object\n",
       "op_area                  float64\n",
       "category                  object\n",
       "cuisine                   object\n",
       "checkout_price           float64\n",
       "base_price               float64\n",
       "emailer_for_promotion      int64\n",
       "homepage_featured          int64\n",
       "num_orders                 int64\n",
       "dtype: object"
      ]
     },
     "execution_count": 149,
     "metadata": {},
     "output_type": "execute_result"
    }
   ],
   "source": [
    "trainfinal = trainfinal[cols]\n",
    "trainfinal.dtypes"
   ]
  },
  {
   "cell_type": "code",
   "execution_count": 150,
   "metadata": {},
   "outputs": [],
   "source": [
    "#sns.regplot(x=trainfinal['cuisine'],y=trainfinal['num_orders'])"
   ]
  },
  {
   "cell_type": "code",
   "execution_count": 151,
   "metadata": {},
   "outputs": [
    {
     "data": {
      "text/plain": [
       "<Axes: xlabel='num_orders', ylabel='week'>"
      ]
     },
     "execution_count": 151,
     "metadata": {},
     "output_type": "execute_result"
    },
    {
     "data": {
      "image/png": "[encoded data removed]",
      "text/plain": [
       "<Figure size 640x480 with 1 Axes>"
      ]
     },
     "metadata": {},
     "output_type": "display_data"
    }
   ],
   "source": [
    "#sns.pairplot(data=trainfinal[trainfinal.columns])\n",
    "sns.scatterplot(x=trainfinal['num_orders'],y=trainfinal['week'])"
   ]
  },
  {
   "cell_type": "code",
   "execution_count": null,
   "metadata": {},
   "outputs": [],
   "source": []
  },
  {
   "cell_type": "code",
   "execution_count": 152,
   "metadata": {
    "id": "a7ubRvOQn_x9"
   },
   "outputs": [],
   "source": [
    "from sklearn.preprocessing import LabelEncoder\n"
   ]
  },
  {
   "cell_type": "markdown",
   "metadata": {
    "id": "VAu5ZSJIpt-G"
   },
   "source": [
    "Label encoding"
   ]
  },
  {
   "cell_type": "code",
   "execution_count": 153,
   "metadata": {
    "colab": {
     "base_uri": "https://localhost:8080/",
     "height": 270
    },
    "id": "ujMSdOk6ue7W",
    "outputId": "026865ea-6918-4fec-f677-3ecd74a829e5"
   },
   "outputs": [
    {
     "data": {
      "text/html": [
       "<div>\n",
       "<style scoped>\n",
       "    .dataframe tbody tr th:only-of-type {\n",
       "        vertical-align: middle;\n",
       "    }\n",
       "\n",
       "    .dataframe tbody tr th {\n",
       "        vertical-align: top;\n",
       "    }\n",
       "\n",
       "    .dataframe thead th {\n",
       "        text-align: right;\n",
       "    }\n",
       "</style>\n",
       "<table border=\"1\" class=\"dataframe\">\n",
       "  <thead>\n",
       "    <tr style=\"text-align: right;\">\n",
       "      <th></th>\n",
       "      <th>id</th>\n",
       "      <th>week</th>\n",
       "      <th>city_code</th>\n",
       "      <th>region_code</th>\n",
       "      <th>center_type</th>\n",
       "      <th>op_area</th>\n",
       "      <th>category</th>\n",
       "      <th>cuisine</th>\n",
       "      <th>checkout_price</th>\n",
       "      <th>base_price</th>\n",
       "      <th>emailer_for_promotion</th>\n",
       "      <th>homepage_featured</th>\n",
       "      <th>num_orders</th>\n",
       "    </tr>\n",
       "  </thead>\n",
       "  <tbody>\n",
       "    <tr>\n",
       "      <th>0</th>\n",
       "      <td>1436842</td>\n",
       "      <td>1</td>\n",
       "      <td>590</td>\n",
       "      <td>56</td>\n",
       "      <td>TYPE_B</td>\n",
       "      <td>6.3</td>\n",
       "      <td>Beverages</td>\n",
       "      <td>Italian</td>\n",
       "      <td>181.39</td>\n",
       "      <td>181.39</td>\n",
       "      <td>0</td>\n",
       "      <td>0</td>\n",
       "      <td>865</td>\n",
       "    </tr>\n",
       "    <tr>\n",
       "      <th>1</th>\n",
       "      <td>1205013</td>\n",
       "      <td>2</td>\n",
       "      <td>590</td>\n",
       "      <td>56</td>\n",
       "      <td>TYPE_B</td>\n",
       "      <td>6.3</td>\n",
       "      <td>Beverages</td>\n",
       "      <td>Italian</td>\n",
       "      <td>183.36</td>\n",
       "      <td>182.36</td>\n",
       "      <td>0</td>\n",
       "      <td>0</td>\n",
       "      <td>782</td>\n",
       "    </tr>\n",
       "    <tr>\n",
       "      <th>2</th>\n",
       "      <td>1447751</td>\n",
       "      <td>3</td>\n",
       "      <td>590</td>\n",
       "      <td>56</td>\n",
       "      <td>TYPE_B</td>\n",
       "      <td>6.3</td>\n",
       "      <td>Beverages</td>\n",
       "      <td>Italian</td>\n",
       "      <td>184.36</td>\n",
       "      <td>182.36</td>\n",
       "      <td>0</td>\n",
       "      <td>0</td>\n",
       "      <td>851</td>\n",
       "    </tr>\n",
       "    <tr>\n",
       "      <th>3</th>\n",
       "      <td>1014968</td>\n",
       "      <td>4</td>\n",
       "      <td>590</td>\n",
       "      <td>56</td>\n",
       "      <td>TYPE_B</td>\n",
       "      <td>6.3</td>\n",
       "      <td>Beverages</td>\n",
       "      <td>Italian</td>\n",
       "      <td>182.36</td>\n",
       "      <td>183.36</td>\n",
       "      <td>0</td>\n",
       "      <td>0</td>\n",
       "      <td>1202</td>\n",
       "    </tr>\n",
       "    <tr>\n",
       "      <th>4</th>\n",
       "      <td>1003563</td>\n",
       "      <td>5</td>\n",
       "      <td>590</td>\n",
       "      <td>56</td>\n",
       "      <td>TYPE_B</td>\n",
       "      <td>6.3</td>\n",
       "      <td>Beverages</td>\n",
       "      <td>Italian</td>\n",
       "      <td>183.39</td>\n",
       "      <td>181.39</td>\n",
       "      <td>0</td>\n",
       "      <td>0</td>\n",
       "      <td>958</td>\n",
       "    </tr>\n",
       "  </tbody>\n",
       "</table>\n",
       "</div>"
      ],
      "text/plain": [
       "        id  week  city_code  region_code center_type  op_area   category  \\\n",
       "0  1436842     1        590           56      TYPE_B      6.3  Beverages   \n",
       "1  1205013     2        590           56      TYPE_B      6.3  Beverages   \n",
       "2  1447751     3        590           56      TYPE_B      6.3  Beverages   \n",
       "3  1014968     4        590           56      TYPE_B      6.3  Beverages   \n",
       "4  1003563     5        590           56      TYPE_B      6.3  Beverages   \n",
       "\n",
       "   cuisine  checkout_price  base_price  emailer_for_promotion  \\\n",
       "0  Italian          181.39      181.39                      0   \n",
       "1  Italian          183.36      182.36                      0   \n",
       "2  Italian          184.36      182.36                      0   \n",
       "3  Italian          182.36      183.36                      0   \n",
       "4  Italian          183.39      181.39                      0   \n",
       "\n",
       "   homepage_featured  num_orders  \n",
       "0                  0         865  \n",
       "1                  0         782  \n",
       "2                  0         851  \n",
       "3                  0        1202  \n",
       "4                  0         958  "
      ]
     },
     "execution_count": 153,
     "metadata": {},
     "output_type": "execute_result"
    }
   ],
   "source": [
    "trainfinal.head()"
   ]
  },
  {
   "cell_type": "code",
   "execution_count": 154,
   "metadata": {
    "colab": {
     "base_uri": "https://localhost:8080/"
    },
    "id": "Ezo-Zar4uq1H",
    "outputId": "73f10323-08fa-45b4-afe5-b7083876d56b"
   },
   "outputs": [
    {
     "data": {
      "text/plain": [
       "(456548, 13)"
      ]
     },
     "execution_count": 154,
     "metadata": {},
     "output_type": "execute_result"
    }
   ],
   "source": [
    "trainfinal.shape"
   ]
  },
  {
   "cell_type": "markdown",
   "metadata": {
    "id": "wAb4CKU0p0MB"
   },
   "source": [
    "data visualization"
   ]
  },
  {
   "cell_type": "code",
   "execution_count": 155,
   "metadata": {
    "colab": {
     "base_uri": "https://localhost:8080/",
     "height": 568
    },
    "id": "jvZl46n_u6n8",
    "outputId": "b98c9b3d-3bd9-4d7d-e4b0-7b20186ba4ad",
    "scrolled": false
   },
   "outputs": [
    {
     "data": {
      "text/plain": [
       "Text(0.5, 1.0, 'num_orders Distribution')"
      ]
     },
     "execution_count": 155,
     "metadata": {},
     "output_type": "execute_result"
    },
    {
     "data": {
      "text/plain": [
       "<Figure size 1200x700 with 0 Axes>"
      ]
     },
     "metadata": {},
     "output_type": "display_data"
    },
    {
     "data": {
      "image/png": "[encoded data removed]",
      "text/plain": [
       "<Figure size 500x500 with 1 Axes>"
      ]
     },
     "metadata": {},
     "output_type": "display_data"
    }
   ],
   "source": [
    "plt.style.use('fivethirtyeight')\n",
    "plt.figure(figsize=(12,7))\n",
    "sns.displot(trainfinal.num_orders, bins = 25)\n",
    "plt.xlabel(\"num_orders\")\n",
    "plt.ylabel(\"Number of Buyers\")\n",
    "plt.title(\"num_orders Distribution\")"
   ]
  },
  {
   "cell_type": "code",
   "execution_count": 156,
   "metadata": {
    "colab": {
     "base_uri": "https://localhost:8080/"
    },
    "id": "7YSyg8aLdv7t",
    "outputId": "6fe5ce07-b59b-41b9-d6a1-d17ceae0163f"
   },
   "outputs": [
    {
     "data": {
      "text/plain": [
       "Index(['num_orders', 'homepage_featured', 'emailer_for_promotion', 'op_area',\n",
       "       'cuisine', 'city_code', 'region_code', 'category'],\n",
       "      dtype='object')"
      ]
     },
     "execution_count": 156,
     "metadata": {},
     "output_type": "execute_result"
    }
   ],
   "source": [
    "trainfinal2 = trainfinal.drop(['id'], axis=1)\n",
    "# Loop through the columns\n",
    "for col in trainfinal2.columns:\n",
    "    if trainfinal2[col].dtype == 'object':\n",
    "        # Create a LabelEncoder object\n",
    "        le = LabelEncoder()\n",
    "        # Fit and transform the data\n",
    "        trainfinal2[col] = le.fit_transform(trainfinal2[col])\n",
    "correlation = trainfinal2.corr(method='pearson')\n",
    "columns = correlation.nlargest(8, 'num_orders').index\n",
    "columns"
   ]
  },
  {
   "cell_type": "code",
   "execution_count": 157,
   "metadata": {
    "colab": {
     "base_uri": "https://localhost:8080/",
     "height": 403
    },
    "id": "fMGUBCu4f5gC",
    "outputId": "9c4b744a-e78f-4016-e758-16268f33b1d2"
   },
   "outputs": [
    {
     "data": {
      "image/png": "[encoded data removed]",
      "text/plain": [
       "<Figure size 640x480 with 2 Axes>"
      ]
     },
     "metadata": {},
     "output_type": "display_data"
    }
   ],
   "source": [
    "correlation_map = np.corrcoef(trainfinal2[columns].values.T)\n",
    "sns.set(font_scale=1.0) \n",
    "heatmap = sns.heatmap(correlation_map, cbar=True, annot=True, square=True, fmt='.2f', yticklabels=columns.values, xticklabels=columns.values)\n",
    "\n",
    "plt.show()"
   ]
  },
  {
   "cell_type": "markdown",
   "metadata": {
    "id": "z8crmg-Rp86s"
   },
   "source": [
    "spliting the dataset into dependent and independent variable"
   ]
  },
  {
   "cell_type": "code",
   "execution_count": 158,
   "metadata": {
    "colab": {
     "base_uri": "https://localhost:8080/",
     "height": 206
    },
    "id": "p50oGelYiyFd",
    "outputId": "1635f9cf-321c-46cf-ae33-0468f47018f0"
   },
   "outputs": [
    {
     "data": {
      "text/html": [
       "<div>\n",
       "<style scoped>\n",
       "    .dataframe tbody tr th:only-of-type {\n",
       "        vertical-align: middle;\n",
       "    }\n",
       "\n",
       "    .dataframe tbody tr th {\n",
       "        vertical-align: top;\n",
       "    }\n",
       "\n",
       "    .dataframe thead th {\n",
       "        text-align: right;\n",
       "    }\n",
       "</style>\n",
       "<table border=\"1\" class=\"dataframe\">\n",
       "  <thead>\n",
       "    <tr style=\"text-align: right;\">\n",
       "      <th></th>\n",
       "      <th>homepage_featured</th>\n",
       "      <th>emailer_for_promotion</th>\n",
       "      <th>op_area</th>\n",
       "      <th>cuisine</th>\n",
       "      <th>city_code</th>\n",
       "      <th>region_code</th>\n",
       "      <th>category</th>\n",
       "    </tr>\n",
       "  </thead>\n",
       "  <tbody>\n",
       "    <tr>\n",
       "      <th>0</th>\n",
       "      <td>0</td>\n",
       "      <td>0</td>\n",
       "      <td>6.3</td>\n",
       "      <td>Italian</td>\n",
       "      <td>590</td>\n",
       "      <td>56</td>\n",
       "      <td>Beverages</td>\n",
       "    </tr>\n",
       "    <tr>\n",
       "      <th>1</th>\n",
       "      <td>0</td>\n",
       "      <td>0</td>\n",
       "      <td>6.3</td>\n",
       "      <td>Italian</td>\n",
       "      <td>590</td>\n",
       "      <td>56</td>\n",
       "      <td>Beverages</td>\n",
       "    </tr>\n",
       "    <tr>\n",
       "      <th>2</th>\n",
       "      <td>0</td>\n",
       "      <td>0</td>\n",
       "      <td>6.3</td>\n",
       "      <td>Italian</td>\n",
       "      <td>590</td>\n",
       "      <td>56</td>\n",
       "      <td>Beverages</td>\n",
       "    </tr>\n",
       "    <tr>\n",
       "      <th>3</th>\n",
       "      <td>0</td>\n",
       "      <td>0</td>\n",
       "      <td>6.3</td>\n",
       "      <td>Italian</td>\n",
       "      <td>590</td>\n",
       "      <td>56</td>\n",
       "      <td>Beverages</td>\n",
       "    </tr>\n",
       "    <tr>\n",
       "      <th>4</th>\n",
       "      <td>0</td>\n",
       "      <td>0</td>\n",
       "      <td>6.3</td>\n",
       "      <td>Italian</td>\n",
       "      <td>590</td>\n",
       "      <td>56</td>\n",
       "      <td>Beverages</td>\n",
       "    </tr>\n",
       "  </tbody>\n",
       "</table>\n",
       "</div>"
      ],
      "text/plain": [
       "   homepage_featured  emailer_for_promotion  op_area  cuisine  city_code  \\\n",
       "0                  0                      0      6.3  Italian        590   \n",
       "1                  0                      0      6.3  Italian        590   \n",
       "2                  0                      0      6.3  Italian        590   \n",
       "3                  0                      0      6.3  Italian        590   \n",
       "4                  0                      0      6.3  Italian        590   \n",
       "\n",
       "   region_code   category  \n",
       "0           56  Beverages  \n",
       "1           56  Beverages  \n",
       "2           56  Beverages  \n",
       "3           56  Beverages  \n",
       "4           56  Beverages  "
      ]
     },
     "execution_count": 158,
     "metadata": {},
     "output_type": "execute_result"
    }
   ],
   "source": [
    "features = columns.drop(['num_orders'])\n",
    "trainfinal3 = trainfinal[features]\n",
    "X = trainfinal3.values\n",
    "Y = trainfinal['num_orders'].values\n",
    "trainfinal3.head()"
   ]
  },
  {
   "cell_type": "markdown",
   "metadata": {
    "id": "mY67jJnFqHWD"
   },
   "source": [
    "Split the dataset into train set and test set"
   ]
  },
  {
   "cell_type": "code",
   "execution_count": 159,
   "metadata": {
    "id": "NRQWnbuSlKu9"
   },
   "outputs": [],
   "source": [
    "from sklearn.model_selection import train_test_split\n",
    "X_train, X_val, Y_train, Y_val = train_test_split(X, Y, test_size=0.25)"
   ]
  },
  {
   "cell_type": "markdown",
   "metadata": {
    "id": "eK4Z6oGWGkkr"
   },
   "source": [
    "Train and test model algorithms"
   ]
  },
  {
   "cell_type": "code",
   "execution_count": 160,
   "metadata": {
    "id": "rtEw8k4nGx2V"
   },
   "outputs": [
    {
     "data": {
      "text/plain": [
       "array([[0, 0, 4.0, ..., 576, 34, 'Sandwich'],\n",
       "       [0, 1, 4.2, ..., 615, 34, 'Desert'],\n",
       "       [0, 0, 3.7, ..., 679, 56, 'Desert'],\n",
       "       ...,\n",
       "       [0, 0, 3.9, ..., 522, 56, 'Beverages'],\n",
       "       [0, 0, 3.9, ..., 522, 56, 'Soup'],\n",
       "       [0, 0, 4.0, ..., 522, 56, 'Salad']],\n",
       "      shape=(342411, 7), dtype=object)"
      ]
     },
     "execution_count": 160,
     "metadata": {},
     "output_type": "execute_result"
    }
   ],
   "source": [
    "from sklearn.linear_model import LinearRegression\n",
    "from sklearn.linear_model import Lasso\n",
    "from sklearn.linear_model import ElasticNet\n",
    "from sklearn.tree import DecisionTreeRegressor\n",
    "from sklearn.neighbors import KNeighborsRegressor\n",
    "from sklearn.ensemble import GradientBoostingRegressor\n",
    "from xgboost import XGBRegressor\n",
    "X_train"
   ]
  },
  {
   "cell_type": "markdown",
   "metadata": {
    "id": "IVBnHGP5IzaL"
   },
   "source": [
    "Model Evalution"
   ]
  },
  {
   "cell_type": "code",
   "execution_count": 161,
   "metadata": {
    "colab": {
     "base_uri": "https://localhost:8080/"
    },
    "id": "xFksZN8eI9it",
    "outputId": "57f0fb64-9adf-4fc0-a428-acb92c31f547"
   },
   "outputs": [
    {
     "name": "stdout",
     "output_type": "stream",
     "text": [
      "RMSLE: 72.60316119234382\n"
     ]
    }
   ],
   "source": [
    "# Convert categorical variables to numeric\n",
    "from sklearn.preprocessing import LabelEncoder\n",
    "\n",
    "# Create a copy to avoid modifying the original X arrays\n",
    "X_train_encoded = X_train.copy()\n",
    "X_val_encoded = X_val.copy()\n",
    "\n",
    "# Find categorical columns (string type)\n",
    "for i in range(X_train.shape[1]):\n",
    "\tif isinstance(X_train[0, i], str):\n",
    "\t\tle = LabelEncoder()\n",
    "\t\t# Fit on both train and val to ensure consistent encoding\n",
    "\t\tall_values = np.concatenate([X_train[:, i], X_val[:, i]])\n",
    "\t\tle.fit(all_values)\n",
    "\t\tX_train_encoded[:, i] = le.transform(X_train[:, i])\n",
    "\t\tX_val_encoded[:, i] = le.transform(X_val[:, i])\n",
    "\n",
    "# Now fit XGBRegressor with numeric data\n",
    "XG = XGBRegressor()\n",
    "XG.fit(X_train_encoded, Y_train)\n",
    "y_pred = XG.predict(X_val_encoded)\n",
    "y_pred[y_pred<0] = 0\n",
    "from sklearn import metrics\n",
    "print('RMSLE:', 100*np.sqrt(metrics.mean_squared_log_error(Y_val, y_pred)))"
   ]
  },
  {
   "cell_type": "code",
   "execution_count": 162,
   "metadata": {
    "colab": {
     "base_uri": "https://localhost:8080/"
    },
    "id": "-jj_i5lAWFv0",
    "outputId": "5ce03791-f403-4681-d410-dbce90ef1dc4"
   },
   "outputs": [
    {
     "name": "stdout",
     "output_type": "stream",
     "text": [
      "RMSLE: 129.8083479960431\n"
     ]
    }
   ],
   "source": [
    "# Convert categorical variables to numeric for LinearRegression\n",
    "X_train_lr = X_train_encoded.copy()  # Use the encoded arrays from cell 37\n",
    "X_val_lr = X_val_encoded.copy()\n",
    "\n",
    "# Convert any remaining object dtypes to float\n",
    "X_train_lr = X_train_lr.astype(float)\n",
    "X_val_lr = X_val_lr.astype(float)\n",
    "\n",
    "LR = LinearRegression()\n",
    "LR.fit(X_train_lr, Y_train)\n",
    "y_pred = LR.predict(X_val_lr)\n",
    "y_pred[y_pred<0] = 0\n",
    "from sklearn import metrics\n",
    "print('RMSLE:', 100*np.sqrt(metrics.mean_squared_log_error(Y_val, y_pred)))"
   ]
  },
  {
   "cell_type": "code",
   "execution_count": 163,
   "metadata": {
    "colab": {
     "base_uri": "https://localhost:8080/"
    },
    "id": "_zxNpvt_b61t",
    "outputId": "7c7e3c39-39a4-4323-fc8d-d3b253e89689"
   },
   "outputs": [
    {
     "name": "stdout",
     "output_type": "stream",
     "text": [
      "RMSLE: 129.4388248626716\n"
     ]
    }
   ],
   "source": [
    "L = Lasso()\n",
    "L.fit(X_train_encoded, Y_train)\n",
    "y_pred = L.predict(X_val_encoded)\n",
    "y_pred[y_pred<0] = 0\n",
    "from sklearn import metrics\n",
    "print('RMSLE:', 100*np.sqrt(metrics.mean_squared_log_error(Y_val, y_pred)))"
   ]
  },
  {
   "cell_type": "code",
   "execution_count": 164,
   "metadata": {
    "colab": {
     "base_uri": "https://localhost:8080/"
    },
    "id": "rEgLfy4qeFLP",
    "outputId": "d8209f5b-ec5d-411a-80be-a3fc1393f834"
   },
   "outputs": [
    {
     "name": "stdout",
     "output_type": "stream",
     "text": [
      "RMSLE: 131.5695347288437\n"
     ]
    }
   ],
   "source": [
    "EN = ElasticNet()\n",
    "EN.fit(X_train_encoded, Y_train)\n",
    "y_pred = EN.predict(X_val_encoded)\n",
    "y_pred[y_pred<0] = 0\n",
    "from sklearn import metrics\n",
    "print('RMSLE:', 100*np.sqrt(metrics.mean_squared_log_error(Y_val, y_pred)))"
   ]
  },
  {
   "cell_type": "code",
   "execution_count": 165,
   "metadata": {
    "colab": {
     "base_uri": "https://localhost:8080/"
    },
    "id": "adI_YTyrfUWc",
    "outputId": "230ac354-68c0-446c-f75c-085da78ab8c5"
   },
   "outputs": [
    {
     "name": "stdout",
     "output_type": "stream",
     "text": [
      "RMSLE: 62.96936526577481\n"
     ]
    }
   ],
   "source": [
    "from sklearn.tree import DecisionTreeRegressor\n",
    "DT = DecisionTreeRegressor()\n",
    "DT.fit(X_train_encoded, Y_train)\n",
    "y_pred = DT.predict(X_val_encoded)\n",
    "y_pred[y_pred<0] = 0\n",
    "from sklearn import metrics\n",
    "print('RMSLE:', 100*np.sqrt(metrics.mean_squared_log_error(Y_val, y_pred)))"
   ]
  },
  {
   "cell_type": "code",
   "execution_count": 166,
   "metadata": {
    "colab": {
     "base_uri": "https://localhost:8080/"
    },
    "id": "fSyv6_IEgCGR",
    "outputId": "87ef141a-5b40-4917-dfa1-b5a5255cdad8"
   },
   "outputs": [
    {
     "name": "stdout",
     "output_type": "stream",
     "text": [
      "RMSLE: 66.65824898535898\n"
     ]
    }
   ],
   "source": [
    "KNN = KNeighborsRegressor()\n",
    "KNN.fit(X_train_encoded, Y_train)\n",
    "y_pred = KNN.predict(X_val_encoded)\n",
    "y_pred[y_pred<0] = 0\n",
    "from sklearn import metrics\n",
    "print('RMSLE:', 100*np.sqrt(metrics.mean_squared_log_error(Y_val, y_pred)))"
   ]
  },
  {
   "cell_type": "code",
   "execution_count": 167,
   "metadata": {
    "colab": {
     "base_uri": "https://localhost:8080/"
    },
    "id": "jB5LDFP_gfHA",
    "outputId": "3a2bf072-56ef-491b-834f-6cfebe8771ee"
   },
   "outputs": [
    {
     "name": "stdout",
     "output_type": "stream",
     "text": [
      "RMSLE: 98.87661386188356\n"
     ]
    }
   ],
   "source": [
    "GB = GradientBoostingRegressor()\n",
    "GB.fit(X_train_encoded, Y_train)\n",
    "y_pred = GB.predict(X_val_encoded)\n",
    "y_pred[y_pred<0] = 0\n",
    "from sklearn import metrics\n",
    "print('RMSLE:', 100*np.sqrt(metrics.mean_squared_log_error(Y_val, y_pred)))"
   ]
  },
  {
   "cell_type": "markdown",
   "metadata": {
    "id": "IavjmHk0g2AA"
   },
   "source": [
    "Save the model"
   ]
  },
  {
   "cell_type": "code",
   "execution_count": 168,
   "metadata": {
    "id": "9hO504Kqg4dn"
   },
   "outputs": [],
   "source": [
    "import pickle\n",
    "pickle.dump(DT,open('fdemand.pkl','wb'))"
   ]
  }
 ],
 "metadata": {
  "colab": {
   "collapsed_sections": [],
   "provenance": []
  },
  "kernelspec": {
   "display_name": "venv",
   "language": "python",
   "name": "python3"
  },
  "language_info": {
   "codemirror_mode": {
    "name": "ipython",
    "version": 3
   },
   "file_extension": ".py",
   "mimetype": "text/x-python",
   "name": "python",
   "nbconvert_exporter": "python",
   "pygments_lexer": "ipython3",
   "version": "3.11.4"
  }
 },
 "nbformat": 4,
 "nbformat_minor": 1
}
